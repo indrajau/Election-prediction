{
  "cells": [
    {
      "cell_type": "markdown",
      "metadata": {
        "id": "view-in-github",
        "colab_type": "text"
      },
      "source": [
        "<a href=\"https://colab.research.google.com/github/indrajau/Election-prediction/blob/main/Elections.ipynb\" target=\"_parent\"><img src=\"https://colab.research.google.com/assets/colab-badge.svg\" alt=\"Open In Colab\"/></a>"
      ]
    },
    {
      "cell_type": "code",
      "source": [
        "!pip install numpy\n"
      ],
      "metadata": {
        "colab": {
          "base_uri": "https://localhost:8080/"
        },
        "id": "PLqOdg9Y2rPb",
        "outputId": "67e055b4-c9cb-4aa0-9e68-432541c9fbd4"
      },
      "id": "PLqOdg9Y2rPb",
      "execution_count": null,
      "outputs": [
        {
          "output_type": "stream",
          "name": "stdout",
          "text": [
            "Looking in indexes: https://pypi.org/simple, https://us-python.pkg.dev/colab-wheels/public/simple/\n",
            "Requirement already satisfied: numpy in /usr/local/lib/python3.7/dist-packages (1.21.6)\n"
          ]
        }
      ]
    },
    {
      "cell_type": "code",
      "execution_count": null,
      "id": "f1d5331a",
      "metadata": {
        "id": "f1d5331a"
      },
      "outputs": [],
      "source": [
        "import numpy as np\n",
        "import pandas as pd\n",
        "import matplotlib.pyplot as plt\n",
        "%matplotlib inline\n",
        "import seaborn as sns"
      ]
    },
    {
      "cell_type": "code",
      "source": [
        "from google.colab import drive\n",
        "drive.mount('/content/drive')"
      ],
      "metadata": {
        "colab": {
          "base_uri": "https://localhost:8080/"
        },
        "id": "MLikon1fW896",
        "outputId": "5cbb17d0-95af-4761-dc0d-460f7731f824"
      },
      "id": "MLikon1fW896",
      "execution_count": null,
      "outputs": [
        {
          "output_type": "stream",
          "name": "stdout",
          "text": [
            "Mounted at /content/drive\n"
          ]
        }
      ]
    },
    {
      "cell_type": "code",
      "execution_count": null,
      "id": "313c449a",
      "metadata": {
        "id": "313c449a"
      },
      "outputs": [],
      "source": [
        "df=pd.read_csv('/content/drive/MyDrive/indian-state-level-election.csv')"
      ]
    },
    {
      "cell_type": "code",
      "execution_count": null,
      "id": "7c11326a",
      "metadata": {
        "colab": {
          "base_uri": "https://localhost:8080/",
          "height": 554
        },
        "id": "7c11326a",
        "outputId": "eae5a814-59bb-4154-ebec-28a25c074199"
      },
      "outputs": [
        {
          "output_type": "execute_result",
          "data": {
            "text/plain": [
              "               st_name    year  ac_no    ac_name ac_type  \\\n",
              "0       Andhra Pradesh  1978.0      1  Ichapuram     GEN   \n",
              "1       Andhra Pradesh  1978.0      1  Ichapuram     GEN   \n",
              "2       Andhra Pradesh  1978.0      1  Ichapuram     GEN   \n",
              "3       Andhra Pradesh  1978.0      1  Ichapuram     GEN   \n",
              "4       Andhra Pradesh  1978.0      1  Ichapuram     GEN   \n",
              "...                ...     ...    ...        ...     ...   \n",
              "327289     West Bengal  2011.0    294    Murarai     GEN   \n",
              "327290     West Bengal  2011.0    294    Murarai     GEN   \n",
              "327291     West Bengal  2011.0    294    Murarai     GEN   \n",
              "327292     West Bengal  2011.0    294    Murarai     GEN   \n",
              "327293     West Bengal  2011.0    294    Murarai     GEN   \n",
              "\n",
              "                        cand_name cand_sex                     partyname  \\\n",
              "0                Manabala Ramarao        M                   Independent   \n",
              "1                     Appadu Sahu        M                   Independent   \n",
              "2                Uppada Rangababu        M      Indian National Congress   \n",
              "3            Kalla Balarama Swamy        M  Indian National Congress (I)   \n",
              "4       Bendalam Venkatesam Sarma        M                  Janata Party   \n",
              "...                           ...      ...                           ...   \n",
              "327289                  Ajrail Md        M                           IND   \n",
              "327290             Shiblal Sardar        M                           BSP   \n",
              "327291    Sudhiranjan Das Goswami        M                           BJP   \n",
              "327292             Elahi Kamre Dr        M                           CPM   \n",
              "327293        Nure Alam Chowdhury        M                          AITC   \n",
              "\n",
              "       partyabbre  totvotpoll  electors  \n",
              "0             IND       813.0     83247  \n",
              "1             IND      1743.0     83247  \n",
              "2             INC      4427.0     83247  \n",
              "3          INC(I)     19805.0     83247  \n",
              "4             JNP     34251.0     83247  \n",
              "...           ...         ...       ...  \n",
              "327289        IND      2471.0    189320  \n",
              "327290        BSP      3074.0    189320  \n",
              "327291        BJP      4961.0    189320  \n",
              "327292        CPM     73414.0    189320  \n",
              "327293       AITC     77817.0    189320  \n",
              "\n",
              "[327294 rows x 11 columns]"
            ],
            "text/html": [
              "\n",
              "  <div id=\"df-3cc69a7d-aa62-4360-b054-e0f507362cee\">\n",
              "    <div class=\"colab-df-container\">\n",
              "      <div>\n",
              "<style scoped>\n",
              "    .dataframe tbody tr th:only-of-type {\n",
              "        vertical-align: middle;\n",
              "    }\n",
              "\n",
              "    .dataframe tbody tr th {\n",
              "        vertical-align: top;\n",
              "    }\n",
              "\n",
              "    .dataframe thead th {\n",
              "        text-align: right;\n",
              "    }\n",
              "</style>\n",
              "<table border=\"1\" class=\"dataframe\">\n",
              "  <thead>\n",
              "    <tr style=\"text-align: right;\">\n",
              "      <th></th>\n",
              "      <th>st_name</th>\n",
              "      <th>year</th>\n",
              "      <th>ac_no</th>\n",
              "      <th>ac_name</th>\n",
              "      <th>ac_type</th>\n",
              "      <th>cand_name</th>\n",
              "      <th>cand_sex</th>\n",
              "      <th>partyname</th>\n",
              "      <th>partyabbre</th>\n",
              "      <th>totvotpoll</th>\n",
              "      <th>electors</th>\n",
              "    </tr>\n",
              "  </thead>\n",
              "  <tbody>\n",
              "    <tr>\n",
              "      <th>0</th>\n",
              "      <td>Andhra Pradesh</td>\n",
              "      <td>1978.0</td>\n",
              "      <td>1</td>\n",
              "      <td>Ichapuram</td>\n",
              "      <td>GEN</td>\n",
              "      <td>Manabala Ramarao</td>\n",
              "      <td>M</td>\n",
              "      <td>Independent</td>\n",
              "      <td>IND</td>\n",
              "      <td>813.0</td>\n",
              "      <td>83247</td>\n",
              "    </tr>\n",
              "    <tr>\n",
              "      <th>1</th>\n",
              "      <td>Andhra Pradesh</td>\n",
              "      <td>1978.0</td>\n",
              "      <td>1</td>\n",
              "      <td>Ichapuram</td>\n",
              "      <td>GEN</td>\n",
              "      <td>Appadu Sahu</td>\n",
              "      <td>M</td>\n",
              "      <td>Independent</td>\n",
              "      <td>IND</td>\n",
              "      <td>1743.0</td>\n",
              "      <td>83247</td>\n",
              "    </tr>\n",
              "    <tr>\n",
              "      <th>2</th>\n",
              "      <td>Andhra Pradesh</td>\n",
              "      <td>1978.0</td>\n",
              "      <td>1</td>\n",
              "      <td>Ichapuram</td>\n",
              "      <td>GEN</td>\n",
              "      <td>Uppada Rangababu</td>\n",
              "      <td>M</td>\n",
              "      <td>Indian National Congress</td>\n",
              "      <td>INC</td>\n",
              "      <td>4427.0</td>\n",
              "      <td>83247</td>\n",
              "    </tr>\n",
              "    <tr>\n",
              "      <th>3</th>\n",
              "      <td>Andhra Pradesh</td>\n",
              "      <td>1978.0</td>\n",
              "      <td>1</td>\n",
              "      <td>Ichapuram</td>\n",
              "      <td>GEN</td>\n",
              "      <td>Kalla Balarama Swamy</td>\n",
              "      <td>M</td>\n",
              "      <td>Indian National Congress (I)</td>\n",
              "      <td>INC(I)</td>\n",
              "      <td>19805.0</td>\n",
              "      <td>83247</td>\n",
              "    </tr>\n",
              "    <tr>\n",
              "      <th>4</th>\n",
              "      <td>Andhra Pradesh</td>\n",
              "      <td>1978.0</td>\n",
              "      <td>1</td>\n",
              "      <td>Ichapuram</td>\n",
              "      <td>GEN</td>\n",
              "      <td>Bendalam Venkatesam Sarma</td>\n",
              "      <td>M</td>\n",
              "      <td>Janata Party</td>\n",
              "      <td>JNP</td>\n",
              "      <td>34251.0</td>\n",
              "      <td>83247</td>\n",
              "    </tr>\n",
              "    <tr>\n",
              "      <th>...</th>\n",
              "      <td>...</td>\n",
              "      <td>...</td>\n",
              "      <td>...</td>\n",
              "      <td>...</td>\n",
              "      <td>...</td>\n",
              "      <td>...</td>\n",
              "      <td>...</td>\n",
              "      <td>...</td>\n",
              "      <td>...</td>\n",
              "      <td>...</td>\n",
              "      <td>...</td>\n",
              "    </tr>\n",
              "    <tr>\n",
              "      <th>327289</th>\n",
              "      <td>West Bengal</td>\n",
              "      <td>2011.0</td>\n",
              "      <td>294</td>\n",
              "      <td>Murarai</td>\n",
              "      <td>GEN</td>\n",
              "      <td>Ajrail Md</td>\n",
              "      <td>M</td>\n",
              "      <td>IND</td>\n",
              "      <td>IND</td>\n",
              "      <td>2471.0</td>\n",
              "      <td>189320</td>\n",
              "    </tr>\n",
              "    <tr>\n",
              "      <th>327290</th>\n",
              "      <td>West Bengal</td>\n",
              "      <td>2011.0</td>\n",
              "      <td>294</td>\n",
              "      <td>Murarai</td>\n",
              "      <td>GEN</td>\n",
              "      <td>Shiblal Sardar</td>\n",
              "      <td>M</td>\n",
              "      <td>BSP</td>\n",
              "      <td>BSP</td>\n",
              "      <td>3074.0</td>\n",
              "      <td>189320</td>\n",
              "    </tr>\n",
              "    <tr>\n",
              "      <th>327291</th>\n",
              "      <td>West Bengal</td>\n",
              "      <td>2011.0</td>\n",
              "      <td>294</td>\n",
              "      <td>Murarai</td>\n",
              "      <td>GEN</td>\n",
              "      <td>Sudhiranjan Das Goswami</td>\n",
              "      <td>M</td>\n",
              "      <td>BJP</td>\n",
              "      <td>BJP</td>\n",
              "      <td>4961.0</td>\n",
              "      <td>189320</td>\n",
              "    </tr>\n",
              "    <tr>\n",
              "      <th>327292</th>\n",
              "      <td>West Bengal</td>\n",
              "      <td>2011.0</td>\n",
              "      <td>294</td>\n",
              "      <td>Murarai</td>\n",
              "      <td>GEN</td>\n",
              "      <td>Elahi Kamre Dr</td>\n",
              "      <td>M</td>\n",
              "      <td>CPM</td>\n",
              "      <td>CPM</td>\n",
              "      <td>73414.0</td>\n",
              "      <td>189320</td>\n",
              "    </tr>\n",
              "    <tr>\n",
              "      <th>327293</th>\n",
              "      <td>West Bengal</td>\n",
              "      <td>2011.0</td>\n",
              "      <td>294</td>\n",
              "      <td>Murarai</td>\n",
              "      <td>GEN</td>\n",
              "      <td>Nure Alam Chowdhury</td>\n",
              "      <td>M</td>\n",
              "      <td>AITC</td>\n",
              "      <td>AITC</td>\n",
              "      <td>77817.0</td>\n",
              "      <td>189320</td>\n",
              "    </tr>\n",
              "  </tbody>\n",
              "</table>\n",
              "<p>327294 rows × 11 columns</p>\n",
              "</div>\n",
              "      <button class=\"colab-df-convert\" onclick=\"convertToInteractive('df-3cc69a7d-aa62-4360-b054-e0f507362cee')\"\n",
              "              title=\"Convert this dataframe to an interactive table.\"\n",
              "              style=\"display:none;\">\n",
              "        \n",
              "  <svg xmlns=\"http://www.w3.org/2000/svg\" height=\"24px\"viewBox=\"0 0 24 24\"\n",
              "       width=\"24px\">\n",
              "    <path d=\"M0 0h24v24H0V0z\" fill=\"none\"/>\n",
              "    <path d=\"M18.56 5.44l.94 2.06.94-2.06 2.06-.94-2.06-.94-.94-2.06-.94 2.06-2.06.94zm-11 1L8.5 8.5l.94-2.06 2.06-.94-2.06-.94L8.5 2.5l-.94 2.06-2.06.94zm10 10l.94 2.06.94-2.06 2.06-.94-2.06-.94-.94-2.06-.94 2.06-2.06.94z\"/><path d=\"M17.41 7.96l-1.37-1.37c-.4-.4-.92-.59-1.43-.59-.52 0-1.04.2-1.43.59L10.3 9.45l-7.72 7.72c-.78.78-.78 2.05 0 2.83L4 21.41c.39.39.9.59 1.41.59.51 0 1.02-.2 1.41-.59l7.78-7.78 2.81-2.81c.8-.78.8-2.07 0-2.86zM5.41 20L4 18.59l7.72-7.72 1.47 1.35L5.41 20z\"/>\n",
              "  </svg>\n",
              "      </button>\n",
              "      \n",
              "  <style>\n",
              "    .colab-df-container {\n",
              "      display:flex;\n",
              "      flex-wrap:wrap;\n",
              "      gap: 12px;\n",
              "    }\n",
              "\n",
              "    .colab-df-convert {\n",
              "      background-color: #E8F0FE;\n",
              "      border: none;\n",
              "      border-radius: 50%;\n",
              "      cursor: pointer;\n",
              "      display: none;\n",
              "      fill: #1967D2;\n",
              "      height: 32px;\n",
              "      padding: 0 0 0 0;\n",
              "      width: 32px;\n",
              "    }\n",
              "\n",
              "    .colab-df-convert:hover {\n",
              "      background-color: #E2EBFA;\n",
              "      box-shadow: 0px 1px 2px rgba(60, 64, 67, 0.3), 0px 1px 3px 1px rgba(60, 64, 67, 0.15);\n",
              "      fill: #174EA6;\n",
              "    }\n",
              "\n",
              "    [theme=dark] .colab-df-convert {\n",
              "      background-color: #3B4455;\n",
              "      fill: #D2E3FC;\n",
              "    }\n",
              "\n",
              "    [theme=dark] .colab-df-convert:hover {\n",
              "      background-color: #434B5C;\n",
              "      box-shadow: 0px 1px 3px 1px rgba(0, 0, 0, 0.15);\n",
              "      filter: drop-shadow(0px 1px 2px rgba(0, 0, 0, 0.3));\n",
              "      fill: #FFFFFF;\n",
              "    }\n",
              "  </style>\n",
              "\n",
              "      <script>\n",
              "        const buttonEl =\n",
              "          document.querySelector('#df-3cc69a7d-aa62-4360-b054-e0f507362cee button.colab-df-convert');\n",
              "        buttonEl.style.display =\n",
              "          google.colab.kernel.accessAllowed ? 'block' : 'none';\n",
              "\n",
              "        async function convertToInteractive(key) {\n",
              "          const element = document.querySelector('#df-3cc69a7d-aa62-4360-b054-e0f507362cee');\n",
              "          const dataTable =\n",
              "            await google.colab.kernel.invokeFunction('convertToInteractive',\n",
              "                                                     [key], {});\n",
              "          if (!dataTable) return;\n",
              "\n",
              "          const docLinkHtml = 'Like what you see? Visit the ' +\n",
              "            '<a target=\"_blank\" href=https://colab.research.google.com/notebooks/data_table.ipynb>data table notebook</a>'\n",
              "            + ' to learn more about interactive tables.';\n",
              "          element.innerHTML = '';\n",
              "          dataTable['output_type'] = 'display_data';\n",
              "          await google.colab.output.renderOutput(dataTable, element);\n",
              "          const docLink = document.createElement('div');\n",
              "          docLink.innerHTML = docLinkHtml;\n",
              "          element.appendChild(docLink);\n",
              "        }\n",
              "      </script>\n",
              "    </div>\n",
              "  </div>\n",
              "  "
            ]
          },
          "metadata": {},
          "execution_count": 7
        }
      ],
      "source": [
        "df"
      ]
    },
    {
      "cell_type": "code",
      "execution_count": null,
      "id": "fd0a3e68",
      "metadata": {
        "colab": {
          "base_uri": "https://localhost:8080/"
        },
        "id": "fd0a3e68",
        "outputId": "cff9c6c0-2050-482e-bd19-c4287e0c9509"
      },
      "outputs": [
        {
          "output_type": "execute_result",
          "data": {
            "text/plain": [
              "st_name           0\n",
              "year              0\n",
              "ac_no             0\n",
              "ac_name       16083\n",
              "ac_type           0\n",
              "cand_name         0\n",
              "cand_sex       5302\n",
              "partyname         0\n",
              "partyabbre     2706\n",
              "totvotpoll        7\n",
              "electors          0\n",
              "dtype: int64"
            ]
          },
          "metadata": {},
          "execution_count": 9
        }
      ],
      "source": [
        "df.isnull().sum()"
      ]
    },
    {
      "cell_type": "code",
      "execution_count": null,
      "id": "3e23ada5",
      "metadata": {
        "colab": {
          "base_uri": "https://localhost:8080/"
        },
        "id": "3e23ada5",
        "outputId": "93d48ed8-e92a-4aed-9922-b88ea5739b2c"
      },
      "outputs": [
        {
          "output_type": "execute_result",
          "data": {
            "text/plain": [
              "Modakurichi         1116\n",
              "Ramnagar             524\n",
              "Nawabganj            491\n",
              "Fatehpur             471\n",
              "Shahabad             386\n",
              "                    ... \n",
              "Suruhoto               2\n",
              "Yingkiong-Pangin       2\n",
              "Meriang-Mebo           2\n",
              "Kakching               2\n",
              "N.Vanlaiphai           1\n",
              "Name: ac_name, Length: 6247, dtype: int64"
            ]
          },
          "metadata": {},
          "execution_count": 10
        }
      ],
      "source": [
        "df['ac_name'].value_counts()"
      ]
    },
    {
      "cell_type": "code",
      "execution_count": null,
      "id": "61045901",
      "metadata": {
        "id": "61045901"
      },
      "outputs": [],
      "source": [
        "df['ac_name']=df['ac_name'].fillna('unknown')"
      ]
    },
    {
      "cell_type": "code",
      "execution_count": null,
      "id": "5192a1db",
      "metadata": {
        "colab": {
          "base_uri": "https://localhost:8080/"
        },
        "id": "5192a1db",
        "outputId": "d62c80dd-9110-4843-a411-a8f3503b4d46"
      },
      "outputs": [
        {
          "output_type": "execute_result",
          "data": {
            "text/plain": [
              "M    307098\n",
              "F     14883\n",
              "O        11\n",
              "Name: cand_sex, dtype: int64"
            ]
          },
          "metadata": {},
          "execution_count": 12
        }
      ],
      "source": [
        "df['cand_sex'].value_counts()"
      ]
    },
    {
      "cell_type": "code",
      "execution_count": null,
      "id": "4c5ca70b",
      "metadata": {
        "id": "4c5ca70b"
      },
      "outputs": [],
      "source": [
        "df['cand_sex']=df['cand_sex'].fillna('unknown')"
      ]
    },
    {
      "cell_type": "code",
      "execution_count": null,
      "id": "e7979bdf",
      "metadata": {
        "colab": {
          "base_uri": "https://localhost:8080/"
        },
        "id": "e7979bdf",
        "outputId": "e7b8d8c2-89c1-433b-9c0a-3a569cb37b80"
      },
      "outputs": [
        {
          "output_type": "execute_result",
          "data": {
            "text/plain": [
              "IND       161929\n",
              "INC        27036\n",
              "BJP        19886\n",
              "BSP        13014\n",
              "SP          5137\n",
              "           ...  \n",
              "UMSK           1\n",
              "IFTP           1\n",
              "KDP            1\n",
              "BPNSNP         1\n",
              "KRSP           1\n",
              "Name: partyabbre, Length: 1285, dtype: int64"
            ]
          },
          "metadata": {},
          "execution_count": 14
        }
      ],
      "source": [
        "df['partyabbre'].value_counts()"
      ]
    },
    {
      "cell_type": "code",
      "execution_count": null,
      "id": "572ef1f1",
      "metadata": {
        "id": "572ef1f1"
      },
      "outputs": [],
      "source": [
        "df['partyabbre']=df['partyabbre'].fillna('unknown')"
      ]
    },
    {
      "cell_type": "code",
      "execution_count": null,
      "id": "a9906888",
      "metadata": {
        "colab": {
          "base_uri": "https://localhost:8080/"
        },
        "id": "a9906888",
        "outputId": "8019ca10-baec-45c4-83fb-524854b35004"
      },
      "outputs": [
        {
          "output_type": "execute_result",
          "data": {
            "text/plain": [
              "86.0       392\n",
              "105.0      390\n",
              "108.0      389\n",
              "88.0       381\n",
              "127.0      374\n",
              "          ... \n",
              "21036.0      1\n",
              "17502.0      1\n",
              "10039.0      1\n",
              "57801.0      1\n",
              "77817.0      1\n",
              "Name: totvotpoll, Length: 53067, dtype: int64"
            ]
          },
          "metadata": {},
          "execution_count": 16
        }
      ],
      "source": [
        "df['totvotpoll'].value_counts()"
      ]
    },
    {
      "cell_type": "code",
      "execution_count": null,
      "id": "36900f2d",
      "metadata": {
        "colab": {
          "base_uri": "https://localhost:8080/"
        },
        "id": "36900f2d",
        "outputId": "b4608f80-6435-4540-95e5-b345c23894a7"
      },
      "outputs": [
        {
          "output_type": "execute_result",
          "data": {
            "text/plain": [
              "1022.0"
            ]
          },
          "metadata": {},
          "execution_count": 17
        }
      ],
      "source": [
        "df['totvotpoll'].median()"
      ]
    },
    {
      "cell_type": "code",
      "execution_count": null,
      "id": "27d4aee5",
      "metadata": {
        "id": "27d4aee5"
      },
      "outputs": [],
      "source": [
        "df['totvotpoll']=df['totvotpoll'].fillna(1022.0)"
      ]
    },
    {
      "cell_type": "code",
      "execution_count": null,
      "id": "18afe982",
      "metadata": {
        "colab": {
          "base_uri": "https://localhost:8080/"
        },
        "id": "18afe982",
        "outputId": "2ca3971d-3aca-494f-96b5-7413a751a4c3"
      },
      "outputs": [
        {
          "output_type": "stream",
          "name": "stdout",
          "text": [
            "<class 'pandas.core.frame.DataFrame'>\n",
            "RangeIndex: 327294 entries, 0 to 327293\n",
            "Data columns (total 11 columns):\n",
            " #   Column      Non-Null Count   Dtype  \n",
            "---  ------      --------------   -----  \n",
            " 0   st_name     327294 non-null  object \n",
            " 1   year        327294 non-null  float64\n",
            " 2   ac_no       327294 non-null  int64  \n",
            " 3   ac_name     327294 non-null  object \n",
            " 4   ac_type     327294 non-null  object \n",
            " 5   cand_name   327294 non-null  object \n",
            " 6   cand_sex    327294 non-null  object \n",
            " 7   partyname   327294 non-null  object \n",
            " 8   partyabbre  327294 non-null  object \n",
            " 9   totvotpoll  327294 non-null  float64\n",
            " 10  electors    327294 non-null  int64  \n",
            "dtypes: float64(2), int64(2), object(7)\n",
            "memory usage: 27.5+ MB\n"
          ]
        }
      ],
      "source": [
        "df.info()"
      ]
    },
    {
      "cell_type": "code",
      "execution_count": null,
      "id": "3bfa7542",
      "metadata": {
        "colab": {
          "base_uri": "https://localhost:8080/"
        },
        "id": "3bfa7542",
        "outputId": "8eea5e09-0be3-400e-bb61-fb23fe3d5cd1"
      },
      "outputs": [
        {
          "output_type": "execute_result",
          "data": {
            "text/plain": [
              "Uttar Pradesh                          60206\n",
              "Bihar                                  38064\n",
              "Maharashtra                            26727\n",
              "Madhya Pradesh                         25062\n",
              "Andhra Pradesh                         22012\n",
              "Tamil Nadu                             22009\n",
              "Karnataka                              17111\n",
              "Rajasthan                              17051\n",
              "West Bengal                            13334\n",
              "Haryana                                12190\n",
              "Gujarat                                11604\n",
              "Odisha                                  8991\n",
              "Assam                                   8321\n",
              "Kerala                                  7712\n",
              "Punjab                                  6589\n",
              "National Capital Territory Of Delhi     6083\n",
              "Jammu & Kashmir                         4978\n",
              "Jharkhand                               4098\n",
              "Himachal Pradesh                        3507\n",
              "Chhattisgarh                            2961\n",
              "Mizoram                                 1667\n",
              "Uttarakhand                             1573\n",
              "Arunachal Pradesh                       1351\n",
              "Sikkim                                  1259\n",
              "Meghalaya                                676\n",
              "Manipur                                  587\n",
              "Tripura                                  562\n",
              "Goa                                      417\n",
              "Nagaland                                 405\n",
              "Puducherry                               187\n",
              "Name: st_name, dtype: int64"
            ]
          },
          "metadata": {},
          "execution_count": 20
        }
      ],
      "source": [
        "df['st_name'].value_counts()"
      ]
    },
    {
      "cell_type": "code",
      "execution_count": null,
      "id": "8e1ea0df",
      "metadata": {
        "id": "8e1ea0df"
      },
      "outputs": [],
      "source": [
        "from sklearn.preprocessing import LabelEncoder"
      ]
    },
    {
      "cell_type": "code",
      "execution_count": null,
      "id": "f23e0af4",
      "metadata": {
        "id": "f23e0af4"
      },
      "outputs": [],
      "source": [
        "le=LabelEncoder()"
      ]
    },
    {
      "cell_type": "code",
      "execution_count": null,
      "id": "7edb4046",
      "metadata": {
        "id": "7edb4046"
      },
      "outputs": [],
      "source": [
        "df['st_name']=le.fit_transform(df['st_name'])"
      ]
    },
    {
      "cell_type": "code",
      "execution_count": null,
      "id": "6cc91416",
      "metadata": {
        "colab": {
          "base_uri": "https://localhost:8080/"
        },
        "id": "6cc91416",
        "outputId": "7e8b621a-dfd8-4046-ef65-95377c62d399"
      },
      "outputs": [
        {
          "output_type": "execute_result",
          "data": {
            "text/plain": [
              "unknown             16083\n",
              "Modakurichi          1116\n",
              "Ramnagar              524\n",
              "Nawabganj             491\n",
              "Fatehpur              471\n",
              "                    ...  \n",
              "Suruhoto                2\n",
              "Yingkiong-Pangin        2\n",
              "Meriang-Mebo            2\n",
              "Kakching                2\n",
              "N.Vanlaiphai            1\n",
              "Name: ac_name, Length: 6248, dtype: int64"
            ]
          },
          "metadata": {},
          "execution_count": 24
        }
      ],
      "source": [
        "df['ac_name'].value_counts()"
      ]
    },
    {
      "cell_type": "code",
      "execution_count": null,
      "id": "bac9f0e1",
      "metadata": {
        "id": "bac9f0e1"
      },
      "outputs": [],
      "source": [
        "df['ac_name']=le.fit_transform(df['ac_name'])"
      ]
    },
    {
      "cell_type": "code",
      "execution_count": null,
      "id": "ba030e51",
      "metadata": {
        "colab": {
          "base_uri": "https://localhost:8080/"
        },
        "id": "ba030e51",
        "outputId": "749649ab-60d7-4cc2-d375-9ad27a48f308"
      },
      "outputs": [
        {
          "output_type": "execute_result",
          "data": {
            "text/plain": [
              "GEN      264812\n",
              "SC        41821\n",
              "ST        20625\n",
              "BL           30\n",
              "SANGH         6\n",
              "Name: ac_type, dtype: int64"
            ]
          },
          "metadata": {},
          "execution_count": 26
        }
      ],
      "source": [
        "df['ac_type'].value_counts()"
      ]
    },
    {
      "cell_type": "code",
      "execution_count": null,
      "id": "54b2fc6e",
      "metadata": {
        "id": "54b2fc6e"
      },
      "outputs": [],
      "source": [
        "df['ac_type']=df['ac_type'].replace(('GEN','SC','ST','BL','SANGH'),(0,1,2,3,4))"
      ]
    },
    {
      "cell_type": "code",
      "execution_count": null,
      "id": "78ac7f13",
      "metadata": {
        "colab": {
          "base_uri": "https://localhost:8080/"
        },
        "id": "78ac7f13",
        "outputId": "22138325-31c2-464c-e395-de33f6890b57"
      },
      "outputs": [
        {
          "output_type": "execute_result",
          "data": {
            "text/plain": [
              "None Of The Above         1779\n",
              "Om Prakash                 428\n",
              "Ashok Kumar                414\n",
              "Raj Kumar                  293\n",
              "Anil Kumar                 283\n",
              "                          ... \n",
              "Raffi                        1\n",
              "Chandrashekara Hampali       1\n",
              "Mehtar M. Azzam              1\n",
              "Muniswamy Gowda              1\n",
              "Nure Alam Chowdhury          1\n",
              "Name: cand_name, Length: 220531, dtype: int64"
            ]
          },
          "metadata": {},
          "execution_count": 27
        }
      ],
      "source": [
        "df['cand_name'].value_counts()"
      ]
    },
    {
      "cell_type": "code",
      "execution_count": null,
      "id": "15d21292",
      "metadata": {
        "id": "15d21292"
      },
      "outputs": [],
      "source": [
        "df['cand_name']=le.fit_transform(df['cand_name'])"
      ]
    },
    {
      "cell_type": "code",
      "execution_count": null,
      "id": "435da9ce",
      "metadata": {
        "colab": {
          "base_uri": "https://localhost:8080/"
        },
        "id": "435da9ce",
        "outputId": "41b90cf9-1ec3-4c87-843b-a10b2aa84671"
      },
      "outputs": [
        {
          "output_type": "execute_result",
          "data": {
            "text/plain": [
              "M          307098\n",
              "F           14883\n",
              "unknown      5302\n",
              "O              11\n",
              "Name: cand_sex, dtype: int64"
            ]
          },
          "metadata": {},
          "execution_count": 33
        }
      ],
      "source": [
        "df['cand_sex'].value_counts()"
      ]
    },
    {
      "cell_type": "code",
      "execution_count": null,
      "id": "fe21491d",
      "metadata": {
        "id": "fe21491d"
      },
      "outputs": [],
      "source": [
        "df['cand_sex']=df['cand_sex'].replace(('M','F','unknown','O'),(0,1,2,3))"
      ]
    },
    {
      "cell_type": "code",
      "execution_count": null,
      "id": "33ba6863",
      "metadata": {
        "colab": {
          "base_uri": "https://localhost:8080/"
        },
        "id": "33ba6863",
        "outputId": "74f47d93-0f41-4cda-a11d-a12f071be047"
      },
      "outputs": [
        {
          "output_type": "execute_result",
          "data": {
            "text/plain": [
              "Independent                 84448\n",
              "Independents                53452\n",
              "IND                         25180\n",
              "Indian National Congress    21848\n",
              "Bahujan Samaj Party          8251\n",
              "                            ...  \n",
              "LJSP                            1\n",
              "RAPPRP                          1\n",
              "BJJD                            1\n",
              "RSWD                            1\n",
              "BIP                             1\n",
              "Name: partyname, Length: 1663, dtype: int64"
            ]
          },
          "metadata": {},
          "execution_count": 35
        }
      ],
      "source": [
        "df['partyname'].value_counts()"
      ]
    },
    {
      "cell_type": "code",
      "execution_count": null,
      "id": "bc502277",
      "metadata": {
        "id": "bc502277"
      },
      "outputs": [],
      "source": [
        "df['partyname']=le.fit_transform(df['partyname'])"
      ]
    },
    {
      "cell_type": "code",
      "execution_count": null,
      "id": "f136990c",
      "metadata": {
        "colab": {
          "base_uri": "https://localhost:8080/"
        },
        "id": "f136990c",
        "outputId": "3023f471-bbbb-4990-d9f9-38be28ce05ef"
      },
      "outputs": [
        {
          "output_type": "execute_result",
          "data": {
            "text/plain": [
              "IND       161929\n",
              "INC        27036\n",
              "BJP        19886\n",
              "BSP        13014\n",
              "SP          5137\n",
              "           ...  \n",
              "UMSK           1\n",
              "IFTP           1\n",
              "KDP            1\n",
              "BPNSNP         1\n",
              "KRSP           1\n",
              "Name: partyabbre, Length: 1286, dtype: int64"
            ]
          },
          "metadata": {},
          "execution_count": 37
        }
      ],
      "source": [
        "df['partyabbre'].value_counts()"
      ]
    },
    {
      "cell_type": "code",
      "execution_count": null,
      "id": "983dd508",
      "metadata": {
        "id": "983dd508"
      },
      "outputs": [],
      "source": [
        "df['partyabbre']=le.fit_transform(df['partyabbre'])"
      ]
    },
    {
      "cell_type": "code",
      "execution_count": null,
      "id": "0026f3af",
      "metadata": {
        "colab": {
          "base_uri": "https://localhost:8080/"
        },
        "id": "0026f3af",
        "outputId": "d2df254d-246a-4f12-ade1-0c93a16773d1"
      },
      "outputs": [
        {
          "output_type": "stream",
          "name": "stdout",
          "text": [
            "<class 'pandas.core.frame.DataFrame'>\n",
            "RangeIndex: 327294 entries, 0 to 327293\n",
            "Data columns (total 11 columns):\n",
            " #   Column      Non-Null Count   Dtype  \n",
            "---  ------      --------------   -----  \n",
            " 0   st_name     327294 non-null  int64  \n",
            " 1   year        327294 non-null  float64\n",
            " 2   ac_no       327294 non-null  int64  \n",
            " 3   ac_name     327294 non-null  int64  \n",
            " 4   ac_type     327294 non-null  int64  \n",
            " 5   cand_name   327294 non-null  int64  \n",
            " 6   cand_sex    327294 non-null  int64  \n",
            " 7   partyname   327294 non-null  int64  \n",
            " 8   partyabbre  327294 non-null  int64  \n",
            " 9   totvotpoll  327294 non-null  float64\n",
            " 10  electors    327294 non-null  int64  \n",
            "dtypes: float64(2), int64(9)\n",
            "memory usage: 27.5 MB\n"
          ]
        }
      ],
      "source": [
        "df.info()"
      ]
    },
    {
      "cell_type": "code",
      "execution_count": null,
      "id": "90595fa9",
      "metadata": {
        "id": "90595fa9"
      },
      "outputs": [],
      "source": [
        "x=df.drop(['electors'],axis=1)\n",
        "y=df['electors']"
      ]
    },
    {
      "cell_type": "code",
      "execution_count": null,
      "id": "52517760",
      "metadata": {
        "id": "52517760"
      },
      "outputs": [],
      "source": [
        "from sklearn.model_selection import train_test_split"
      ]
    },
    {
      "cell_type": "code",
      "execution_count": null,
      "id": "93eedc01",
      "metadata": {
        "id": "93eedc01"
      },
      "outputs": [],
      "source": [
        "x_train,x_test,y_train,y_test=train_test_split(x,y,test_size=0.25)"
      ]
    },
    {
      "cell_type": "code",
      "execution_count": null,
      "id": "fc035963",
      "metadata": {
        "id": "fc035963"
      },
      "outputs": [],
      "source": [
        "from sklearn.tree import DecisionTreeRegressor"
      ]
    },
    {
      "cell_type": "code",
      "execution_count": null,
      "id": "48d17ade",
      "metadata": {
        "id": "48d17ade"
      },
      "outputs": [],
      "source": [
        "dt=DecisionTreeRegressor()"
      ]
    },
    {
      "cell_type": "code",
      "execution_count": null,
      "id": "7b62bf22",
      "metadata": {
        "colab": {
          "base_uri": "https://localhost:8080/"
        },
        "id": "7b62bf22",
        "outputId": "b907e5b9-690b-4910-954e-8e11436cd7bc"
      },
      "outputs": [
        {
          "output_type": "execute_result",
          "data": {
            "text/plain": [
              "DecisionTreeRegressor()"
            ]
          },
          "metadata": {},
          "execution_count": 45
        }
      ],
      "source": [
        "dt.fit(x_train,y_train)"
      ]
    },
    {
      "cell_type": "code",
      "execution_count": null,
      "id": "aced2ec1",
      "metadata": {
        "id": "aced2ec1"
      },
      "outputs": [],
      "source": [
        "s1=dt.score(x_test,y_test)"
      ]
    },
    {
      "cell_type": "code",
      "execution_count": null,
      "id": "502a5942",
      "metadata": {
        "colab": {
          "base_uri": "https://localhost:8080/"
        },
        "id": "502a5942",
        "outputId": "9208238f-2977-4722-f314-c113dfa6842c"
      },
      "outputs": [
        {
          "output_type": "execute_result",
          "data": {
            "text/plain": [
              "0.9907724681762803"
            ]
          },
          "metadata": {},
          "execution_count": 47
        }
      ],
      "source": [
        "s1"
      ]
    },
    {
      "cell_type": "code",
      "execution_count": null,
      "id": "13a5ea27",
      "metadata": {
        "id": "13a5ea27"
      },
      "outputs": [],
      "source": [
        "y_pred=dt.predict(x_test)"
      ]
    },
    {
      "cell_type": "code",
      "execution_count": null,
      "id": "49752b80",
      "metadata": {
        "id": "49752b80"
      },
      "outputs": [],
      "source": [
        "from sklearn.metrics import r2_score"
      ]
    },
    {
      "cell_type": "code",
      "execution_count": null,
      "id": "c32988e6",
      "metadata": {
        "id": "c32988e6"
      },
      "outputs": [],
      "source": [
        "r1=r2_score(y_test,y_pred)"
      ]
    },
    {
      "cell_type": "code",
      "execution_count": null,
      "id": "10c6cfb7",
      "metadata": {
        "colab": {
          "base_uri": "https://localhost:8080/"
        },
        "id": "10c6cfb7",
        "outputId": "8dace45e-a7b6-4708-d560-618a35706d5d"
      },
      "outputs": [
        {
          "output_type": "execute_result",
          "data": {
            "text/plain": [
              "0.9907724681762803"
            ]
          },
          "metadata": {},
          "execution_count": 51
        }
      ],
      "source": [
        "r1"
      ]
    },
    {
      "cell_type": "code",
      "execution_count": null,
      "id": "a75a98cf",
      "metadata": {
        "colab": {
          "base_uri": "https://localhost:8080/"
        },
        "id": "a75a98cf",
        "outputId": "f43e626c-7d92-4988-e99e-140e94e4d587"
      },
      "outputs": [
        {
          "output_type": "execute_result",
          "data": {
            "text/plain": [
              "Index(['st_name', 'year', 'ac_no', 'ac_name', 'ac_type', 'cand_name',\n",
              "       'cand_sex', 'partyname', 'partyabbre', 'totvotpoll'],\n",
              "      dtype='object')"
            ]
          },
          "metadata": {},
          "execution_count": 52
        }
      ],
      "source": [
        "x.keys()"
      ]
    },
    {
      "cell_type": "markdown",
      "id": "a05697b1",
      "metadata": {
        "id": "a05697b1"
      },
      "source": [
        "## 'st_name', 'year', 'ac_no', 'ac_name', 'ac_type', 'cand_name','cand_sex', 'partyname', 'partyabbre', 'totvotpoll'"
      ]
    },
    {
      "cell_type": "code",
      "execution_count": null,
      "id": "db298999",
      "metadata": {
        "colab": {
          "base_uri": "https://localhost:8080/"
        },
        "id": "db298999",
        "outputId": "a9fa68a3-2439-4586-acae-3fc2582d91fb"
      },
      "outputs": [
        {
          "output_type": "stream",
          "name": "stderr",
          "text": [
            "/usr/local/lib/python3.7/dist-packages/sklearn/base.py:451: UserWarning: X does not have valid feature names, but DecisionTreeRegressor was fitted with feature names\n",
            "  \"X does not have valid feature names, but\"\n"
          ]
        },
        {
          "output_type": "execute_result",
          "data": {
            "text/plain": [
              "array([83247.])"
            ]
          },
          "metadata": {},
          "execution_count": 53
        }
      ],
      "source": [
        "dt.predict([[0,1928,1,2244,0,209115,0,671,485,4427]])"
      ]
    },
    {
      "cell_type": "code",
      "execution_count": null,
      "id": "811a9d8f",
      "metadata": {
        "id": "811a9d8f"
      },
      "outputs": [],
      "source": [
        "from sklearn.linear_model import LinearRegression"
      ]
    },
    {
      "cell_type": "code",
      "execution_count": null,
      "id": "57c0c906",
      "metadata": {
        "id": "57c0c906"
      },
      "outputs": [],
      "source": [
        "lr=LinearRegression()"
      ]
    },
    {
      "cell_type": "code",
      "execution_count": null,
      "id": "2cecad7b",
      "metadata": {
        "colab": {
          "base_uri": "https://localhost:8080/"
        },
        "id": "2cecad7b",
        "outputId": "8bef2721-a36e-47bd-d339-b2ea703c7df5"
      },
      "outputs": [
        {
          "output_type": "execute_result",
          "data": {
            "text/plain": [
              "LinearRegression()"
            ]
          },
          "metadata": {},
          "execution_count": 56
        }
      ],
      "source": [
        "lr.fit(x_train,y_train)"
      ]
    },
    {
      "cell_type": "code",
      "execution_count": null,
      "id": "7a9adfe0",
      "metadata": {
        "id": "7a9adfe0"
      },
      "outputs": [],
      "source": [
        "s2=lr.score(x_test,y_test)"
      ]
    },
    {
      "cell_type": "code",
      "execution_count": null,
      "id": "7b0ce714",
      "metadata": {
        "colab": {
          "base_uri": "https://localhost:8080/"
        },
        "id": "7b0ce714",
        "outputId": "a42a7b2f-2137-4afa-9d11-c5c60664f7a3"
      },
      "outputs": [
        {
          "output_type": "execute_result",
          "data": {
            "text/plain": [
              "0.3589631703260283"
            ]
          },
          "metadata": {},
          "execution_count": 88
        }
      ],
      "source": [
        "s2"
      ]
    },
    {
      "cell_type": "code",
      "execution_count": null,
      "id": "9e63cec6",
      "metadata": {
        "id": "9e63cec6"
      },
      "outputs": [],
      "source": [
        "y_pred=lr.predict(x_test)"
      ]
    },
    {
      "cell_type": "code",
      "execution_count": null,
      "id": "6a2ee9b0",
      "metadata": {
        "id": "6a2ee9b0"
      },
      "outputs": [],
      "source": [
        "from sklearn.metrics import r2_score"
      ]
    },
    {
      "cell_type": "code",
      "execution_count": null,
      "id": "7c66318e",
      "metadata": {
        "id": "7c66318e"
      },
      "outputs": [],
      "source": [
        "r2=r2_score(y_test,y_pred)"
      ]
    },
    {
      "cell_type": "code",
      "execution_count": null,
      "id": "886766ee",
      "metadata": {
        "colab": {
          "base_uri": "https://localhost:8080/"
        },
        "id": "886766ee",
        "outputId": "428f93a4-fda4-40be-8c7c-1521843aded4"
      },
      "outputs": [
        {
          "output_type": "execute_result",
          "data": {
            "text/plain": [
              "0.3589631703260283"
            ]
          },
          "metadata": {},
          "execution_count": 62
        }
      ],
      "source": [
        "r2"
      ]
    },
    {
      "cell_type": "code",
      "execution_count": null,
      "id": "5462cc34",
      "metadata": {
        "colab": {
          "base_uri": "https://localhost:8080/"
        },
        "id": "5462cc34",
        "outputId": "c6bb9cea-a199-43bf-d015-bd56e0eb3f9d"
      },
      "outputs": [
        {
          "output_type": "execute_result",
          "data": {
            "text/plain": [
              "Index(['st_name', 'year', 'ac_no', 'ac_name', 'ac_type', 'cand_name',\n",
              "       'cand_sex', 'partyname', 'partyabbre', 'totvotpoll'],\n",
              "      dtype='object')"
            ]
          },
          "metadata": {},
          "execution_count": 63
        }
      ],
      "source": [
        "x.keys()"
      ]
    },
    {
      "cell_type": "code",
      "execution_count": null,
      "id": "1ec5bb0f",
      "metadata": {
        "colab": {
          "base_uri": "https://localhost:8080/"
        },
        "id": "1ec5bb0f",
        "outputId": "993adc10-b6b8-4e72-998d-0d18dca53ac4"
      },
      "outputs": [
        {
          "output_type": "stream",
          "name": "stderr",
          "text": [
            "/usr/local/lib/python3.7/dist-packages/sklearn/base.py:451: UserWarning: X does not have valid feature names, but LinearRegression was fitted with feature names\n",
            "  \"X does not have valid feature names, but\"\n"
          ]
        },
        {
          "output_type": "execute_result",
          "data": {
            "text/plain": [
              "array([-143090.67312113])"
            ]
          },
          "metadata": {},
          "execution_count": 64
        }
      ],
      "source": [
        "lr.predict([[0,1928,1,2244,0,209115,0,671,485,4427]])"
      ]
    },
    {
      "cell_type": "code",
      "execution_count": null,
      "id": "6c91df3f",
      "metadata": {
        "id": "6c91df3f"
      },
      "outputs": [],
      "source": [
        "from sklearn.ensemble import RandomForestRegressor"
      ]
    },
    {
      "cell_type": "code",
      "execution_count": null,
      "id": "8b50876b",
      "metadata": {
        "id": "8b50876b"
      },
      "outputs": [],
      "source": [
        "rf=RandomForestRegressor()"
      ]
    },
    {
      "cell_type": "code",
      "execution_count": null,
      "id": "40b0838b",
      "metadata": {
        "colab": {
          "base_uri": "https://localhost:8080/"
        },
        "id": "40b0838b",
        "outputId": "badbb9ba-4164-4615-cfce-0de55e8d5121"
      },
      "outputs": [
        {
          "output_type": "execute_result",
          "data": {
            "text/plain": [
              "RandomForestRegressor()"
            ]
          },
          "metadata": {},
          "execution_count": 67
        }
      ],
      "source": [
        "rf.fit(x_train,y_train)"
      ]
    },
    {
      "cell_type": "code",
      "execution_count": null,
      "id": "25861fb2",
      "metadata": {
        "id": "25861fb2"
      },
      "outputs": [],
      "source": [
        "s3=rf.score(x_test,y_test)"
      ]
    },
    {
      "cell_type": "code",
      "execution_count": null,
      "id": "68a5d29e",
      "metadata": {
        "colab": {
          "base_uri": "https://localhost:8080/"
        },
        "id": "68a5d29e",
        "outputId": "084989f6-ed4c-440c-b18d-ea36f0bdea47"
      },
      "outputs": [
        {
          "output_type": "execute_result",
          "data": {
            "text/plain": [
              "0.9938963009184106"
            ]
          },
          "metadata": {},
          "execution_count": 69
        }
      ],
      "source": [
        "s3"
      ]
    },
    {
      "cell_type": "code",
      "execution_count": null,
      "id": "cc2219da",
      "metadata": {
        "id": "cc2219da"
      },
      "outputs": [],
      "source": [
        "from sklearn.metrics import r2_score"
      ]
    },
    {
      "cell_type": "code",
      "execution_count": null,
      "id": "bd87820f",
      "metadata": {
        "id": "bd87820f"
      },
      "outputs": [],
      "source": [
        "r3=r2_score(y_test,y_pred)"
      ]
    },
    {
      "cell_type": "code",
      "execution_count": null,
      "id": "f490da17",
      "metadata": {
        "colab": {
          "base_uri": "https://localhost:8080/"
        },
        "id": "f490da17",
        "outputId": "ed199a68-f39c-4145-f010-ce15ed84158b"
      },
      "outputs": [
        {
          "output_type": "execute_result",
          "data": {
            "text/plain": [
              "0.3589631703260283"
            ]
          },
          "metadata": {},
          "execution_count": 72
        }
      ],
      "source": [
        "r3"
      ]
    },
    {
      "cell_type": "code",
      "execution_count": null,
      "id": "fbe7df1a",
      "metadata": {
        "colab": {
          "base_uri": "https://localhost:8080/"
        },
        "id": "fbe7df1a",
        "outputId": "0adf14ff-54a6-44dd-9742-455e7bfd46f3"
      },
      "outputs": [
        {
          "output_type": "stream",
          "name": "stderr",
          "text": [
            "/usr/local/lib/python3.7/dist-packages/sklearn/base.py:451: UserWarning: X does not have valid feature names, but RandomForestRegressor was fitted with feature names\n",
            "  \"X does not have valid feature names, but\"\n"
          ]
        },
        {
          "output_type": "execute_result",
          "data": {
            "text/plain": [
              "array([84324.26])"
            ]
          },
          "metadata": {},
          "execution_count": 73
        }
      ],
      "source": [
        "rf.predict([[0,1928,1,2244,0,209115,0,671,485,4427]])"
      ]
    },
    {
      "cell_type": "code",
      "execution_count": null,
      "id": "5de246d5",
      "metadata": {
        "id": "5de246d5"
      },
      "outputs": [],
      "source": [
        "from sklearn.linear_model import Lasso"
      ]
    },
    {
      "cell_type": "code",
      "execution_count": null,
      "id": "fc6c1b95",
      "metadata": {
        "id": "fc6c1b95"
      },
      "outputs": [],
      "source": [
        "la=Lasso()"
      ]
    },
    {
      "cell_type": "code",
      "execution_count": null,
      "id": "55626b28",
      "metadata": {
        "colab": {
          "base_uri": "https://localhost:8080/"
        },
        "id": "55626b28",
        "outputId": "4c027a8a-c296-4d56-a683-5ed24d6278a3"
      },
      "outputs": [
        {
          "output_type": "execute_result",
          "data": {
            "text/plain": [
              "Lasso()"
            ]
          },
          "metadata": {},
          "execution_count": 76
        }
      ],
      "source": [
        "la.fit(x_train,y_train)"
      ]
    },
    {
      "cell_type": "code",
      "execution_count": null,
      "id": "433d46c5",
      "metadata": {
        "id": "433d46c5"
      },
      "outputs": [],
      "source": [
        "s4=la.score(x_test,y_test)"
      ]
    },
    {
      "cell_type": "code",
      "execution_count": null,
      "id": "e953d51b",
      "metadata": {
        "colab": {
          "base_uri": "https://localhost:8080/"
        },
        "id": "e953d51b",
        "outputId": "c3fb4243-d826-4a36-9a25-9caf64ffee0a"
      },
      "outputs": [
        {
          "output_type": "execute_result",
          "data": {
            "text/plain": [
              "0.35896322077780596"
            ]
          },
          "metadata": {},
          "execution_count": 78
        }
      ],
      "source": [
        "s4"
      ]
    },
    {
      "cell_type": "code",
      "execution_count": null,
      "id": "c626a1ba",
      "metadata": {
        "id": "c626a1ba"
      },
      "outputs": [],
      "source": [
        "y_pred=la.predict(x_test)"
      ]
    },
    {
      "cell_type": "code",
      "execution_count": null,
      "id": "0059c1c2",
      "metadata": {
        "id": "0059c1c2"
      },
      "outputs": [],
      "source": [
        "from sklearn.metrics import r2_score"
      ]
    },
    {
      "cell_type": "code",
      "execution_count": null,
      "id": "4bb40f99",
      "metadata": {
        "id": "4bb40f99"
      },
      "outputs": [],
      "source": [
        "r4=r2_score(y_test,y_pred)"
      ]
    },
    {
      "cell_type": "code",
      "execution_count": null,
      "id": "dc0a1c93",
      "metadata": {
        "colab": {
          "base_uri": "https://localhost:8080/"
        },
        "id": "dc0a1c93",
        "outputId": "f0d13fde-e098-4a7f-e2d5-d4856fa748be"
      },
      "outputs": [
        {
          "output_type": "execute_result",
          "data": {
            "text/plain": [
              "0.35896322077780596"
            ]
          },
          "metadata": {},
          "execution_count": 82
        }
      ],
      "source": [
        "r4"
      ]
    },
    {
      "cell_type": "code",
      "execution_count": null,
      "id": "661c96dc",
      "metadata": {
        "colab": {
          "base_uri": "https://localhost:8080/"
        },
        "id": "661c96dc",
        "outputId": "0d79b27e-af1e-4a45-dcdc-00c2625c2db5"
      },
      "outputs": [
        {
          "output_type": "stream",
          "name": "stderr",
          "text": [
            "/usr/local/lib/python3.7/dist-packages/sklearn/base.py:451: UserWarning: X does not have valid feature names, but Lasso was fitted with feature names\n",
            "  \"X does not have valid feature names, but\"\n"
          ]
        },
        {
          "output_type": "execute_result",
          "data": {
            "text/plain": [
              "array([-143092.54339529])"
            ]
          },
          "metadata": {},
          "execution_count": 83
        }
      ],
      "source": [
        "la.predict([[0,1928,1,2244,0,209115,0,671,485,4427]])"
      ]
    },
    {
      "cell_type": "code",
      "execution_count": null,
      "id": "4c843c50",
      "metadata": {
        "id": "4c843c50"
      },
      "outputs": [],
      "source": [
        "data=pd.DataFrame({'Algorithm':['DecisionTreeRegressor','LinearRegression','RandomForestRegressor','Lasso'],\n",
        "                  'Score':[s1,s2,s3,s4],\n",
        "                  'r2_score':[r1,r2,r3,r4]})"
      ]
    },
    {
      "cell_type": "code",
      "execution_count": null,
      "id": "ff0f67d6",
      "metadata": {
        "colab": {
          "base_uri": "https://localhost:8080/",
          "height": 175
        },
        "id": "ff0f67d6",
        "outputId": "3a6efe90-8b72-442d-a300-0ea44581b570"
      },
      "outputs": [
        {
          "output_type": "execute_result",
          "data": {
            "text/plain": [
              "               Algorithm     Score  r2_score\n",
              "0  DecisionTreeRegressor  0.990772  0.990772\n",
              "1       LinearRegression  0.358963  0.358963\n",
              "2  RandomForestRegressor  0.993896  0.358963\n",
              "3                  Lasso  0.358963  0.358963"
            ],
            "text/html": [
              "\n",
              "  <div id=\"df-4f7c3d54-7046-4065-973c-a961577ae43e\">\n",
              "    <div class=\"colab-df-container\">\n",
              "      <div>\n",
              "<style scoped>\n",
              "    .dataframe tbody tr th:only-of-type {\n",
              "        vertical-align: middle;\n",
              "    }\n",
              "\n",
              "    .dataframe tbody tr th {\n",
              "        vertical-align: top;\n",
              "    }\n",
              "\n",
              "    .dataframe thead th {\n",
              "        text-align: right;\n",
              "    }\n",
              "</style>\n",
              "<table border=\"1\" class=\"dataframe\">\n",
              "  <thead>\n",
              "    <tr style=\"text-align: right;\">\n",
              "      <th></th>\n",
              "      <th>Algorithm</th>\n",
              "      <th>Score</th>\n",
              "      <th>r2_score</th>\n",
              "    </tr>\n",
              "  </thead>\n",
              "  <tbody>\n",
              "    <tr>\n",
              "      <th>0</th>\n",
              "      <td>DecisionTreeRegressor</td>\n",
              "      <td>0.990772</td>\n",
              "      <td>0.990772</td>\n",
              "    </tr>\n",
              "    <tr>\n",
              "      <th>1</th>\n",
              "      <td>LinearRegression</td>\n",
              "      <td>0.358963</td>\n",
              "      <td>0.358963</td>\n",
              "    </tr>\n",
              "    <tr>\n",
              "      <th>2</th>\n",
              "      <td>RandomForestRegressor</td>\n",
              "      <td>0.993896</td>\n",
              "      <td>0.358963</td>\n",
              "    </tr>\n",
              "    <tr>\n",
              "      <th>3</th>\n",
              "      <td>Lasso</td>\n",
              "      <td>0.358963</td>\n",
              "      <td>0.358963</td>\n",
              "    </tr>\n",
              "  </tbody>\n",
              "</table>\n",
              "</div>\n",
              "      <button class=\"colab-df-convert\" onclick=\"convertToInteractive('df-4f7c3d54-7046-4065-973c-a961577ae43e')\"\n",
              "              title=\"Convert this dataframe to an interactive table.\"\n",
              "              style=\"display:none;\">\n",
              "        \n",
              "  <svg xmlns=\"http://www.w3.org/2000/svg\" height=\"24px\"viewBox=\"0 0 24 24\"\n",
              "       width=\"24px\">\n",
              "    <path d=\"M0 0h24v24H0V0z\" fill=\"none\"/>\n",
              "    <path d=\"M18.56 5.44l.94 2.06.94-2.06 2.06-.94-2.06-.94-.94-2.06-.94 2.06-2.06.94zm-11 1L8.5 8.5l.94-2.06 2.06-.94-2.06-.94L8.5 2.5l-.94 2.06-2.06.94zm10 10l.94 2.06.94-2.06 2.06-.94-2.06-.94-.94-2.06-.94 2.06-2.06.94z\"/><path d=\"M17.41 7.96l-1.37-1.37c-.4-.4-.92-.59-1.43-.59-.52 0-1.04.2-1.43.59L10.3 9.45l-7.72 7.72c-.78.78-.78 2.05 0 2.83L4 21.41c.39.39.9.59 1.41.59.51 0 1.02-.2 1.41-.59l7.78-7.78 2.81-2.81c.8-.78.8-2.07 0-2.86zM5.41 20L4 18.59l7.72-7.72 1.47 1.35L5.41 20z\"/>\n",
              "  </svg>\n",
              "      </button>\n",
              "      \n",
              "  <style>\n",
              "    .colab-df-container {\n",
              "      display:flex;\n",
              "      flex-wrap:wrap;\n",
              "      gap: 12px;\n",
              "    }\n",
              "\n",
              "    .colab-df-convert {\n",
              "      background-color: #E8F0FE;\n",
              "      border: none;\n",
              "      border-radius: 50%;\n",
              "      cursor: pointer;\n",
              "      display: none;\n",
              "      fill: #1967D2;\n",
              "      height: 32px;\n",
              "      padding: 0 0 0 0;\n",
              "      width: 32px;\n",
              "    }\n",
              "\n",
              "    .colab-df-convert:hover {\n",
              "      background-color: #E2EBFA;\n",
              "      box-shadow: 0px 1px 2px rgba(60, 64, 67, 0.3), 0px 1px 3px 1px rgba(60, 64, 67, 0.15);\n",
              "      fill: #174EA6;\n",
              "    }\n",
              "\n",
              "    [theme=dark] .colab-df-convert {\n",
              "      background-color: #3B4455;\n",
              "      fill: #D2E3FC;\n",
              "    }\n",
              "\n",
              "    [theme=dark] .colab-df-convert:hover {\n",
              "      background-color: #434B5C;\n",
              "      box-shadow: 0px 1px 3px 1px rgba(0, 0, 0, 0.15);\n",
              "      filter: drop-shadow(0px 1px 2px rgba(0, 0, 0, 0.3));\n",
              "      fill: #FFFFFF;\n",
              "    }\n",
              "  </style>\n",
              "\n",
              "      <script>\n",
              "        const buttonEl =\n",
              "          document.querySelector('#df-4f7c3d54-7046-4065-973c-a961577ae43e button.colab-df-convert');\n",
              "        buttonEl.style.display =\n",
              "          google.colab.kernel.accessAllowed ? 'block' : 'none';\n",
              "\n",
              "        async function convertToInteractive(key) {\n",
              "          const element = document.querySelector('#df-4f7c3d54-7046-4065-973c-a961577ae43e');\n",
              "          const dataTable =\n",
              "            await google.colab.kernel.invokeFunction('convertToInteractive',\n",
              "                                                     [key], {});\n",
              "          if (!dataTable) return;\n",
              "\n",
              "          const docLinkHtml = 'Like what you see? Visit the ' +\n",
              "            '<a target=\"_blank\" href=https://colab.research.google.com/notebooks/data_table.ipynb>data table notebook</a>'\n",
              "            + ' to learn more about interactive tables.';\n",
              "          element.innerHTML = '';\n",
              "          dataTable['output_type'] = 'display_data';\n",
              "          await google.colab.output.renderOutput(dataTable, element);\n",
              "          const docLink = document.createElement('div');\n",
              "          docLink.innerHTML = docLinkHtml;\n",
              "          element.appendChild(docLink);\n",
              "        }\n",
              "      </script>\n",
              "    </div>\n",
              "  </div>\n",
              "  "
            ]
          },
          "metadata": {},
          "execution_count": 85
        }
      ],
      "source": [
        "data"
      ]
    },
    {
      "cell_type": "code",
      "execution_count": null,
      "id": "d859cefb",
      "metadata": {
        "colab": {
          "base_uri": "https://localhost:8080/",
          "height": 423
        },
        "id": "d859cefb",
        "outputId": "2009c986-e9e5-47e4-83c4-1a4c72d31097"
      },
      "outputs": [
        {
          "output_type": "execute_result",
          "data": {
            "text/plain": [
              "(array([0, 1, 2, 3]), <a list of 4 Text major ticklabel objects>)"
            ]
          },
          "metadata": {},
          "execution_count": 86
        },
        {
          "output_type": "display_data",
          "data": {
            "text/plain": [
              "<Figure size 432x288 with 1 Axes>"
            ],
            "image/png": "[encoded data removed]"
          },
          "metadata": {
            "needs_background": "light"
          }
        }
      ],
      "source": [
        "sns.barplot(x='Algorithm',y='Score',data=data)\n",
        "plt.title('Comparison of score for various algorithms')\n",
        "plt.xticks(rotation=90)"
      ]
    },
    {
      "cell_type": "code",
      "execution_count": null,
      "id": "1386e56c",
      "metadata": {
        "colab": {
          "base_uri": "https://localhost:8080/",
          "height": 423
        },
        "id": "1386e56c",
        "outputId": "bdb332b1-f173-43f4-ab7a-4186d78222d7"
      },
      "outputs": [
        {
          "output_type": "execute_result",
          "data": {
            "text/plain": [
              "(array([0, 1, 2, 3]), <a list of 4 Text major ticklabel objects>)"
            ]
          },
          "metadata": {},
          "execution_count": 87
        },
        {
          "output_type": "display_data",
          "data": {
            "text/plain": [
              "<Figure size 432x288 with 1 Axes>"
            ],
            "image/png": "[encoded data removed]"
          },
          "metadata": {
            "needs_background": "light"
          }
        }
      ],
      "source": [
        "sns.barplot(x='Algorithm',y='r2_score',data=data)\n",
        "plt.title('Comparison of r2_score for various algorithms')\n",
        "plt.xticks(rotation=90)"
      ]
    },
    {
      "cell_type": "code",
      "source": [
        "df"
      ],
      "metadata": {
        "colab": {
          "base_uri": "https://localhost:8080/",
          "height": 424
        },
        "id": "6gXQ0XMlBURa",
        "outputId": "29458fe3-ba92-4e63-b119-118f798d3f6c"
      },
      "id": "6gXQ0XMlBURa",
      "execution_count": null,
      "outputs": [
        {
          "output_type": "execute_result",
          "data": {
            "text/plain": [
              "        st_name    year  ac_no  ac_name  ac_type  cand_name  cand_sex  \\\n",
              "0             0  1978.0      1     2244        0     110726         0   \n",
              "1             0  1978.0      1     2244        0      12336         0   \n",
              "2             0  1978.0      1     2244        0     209115         0   \n",
              "3             0  1978.0      1     2244        0      86828         0   \n",
              "4             0  1978.0      1     2244        0      25207         0   \n",
              "...         ...     ...    ...      ...      ...        ...       ...   \n",
              "327289       29  2011.0    294     3869        0       6377         0   \n",
              "327290       29  2011.0    294     3869        0     186024         0   \n",
              "327291       29  2011.0    294     3869        0     195799         0   \n",
              "327292       29  2011.0    294     3869        0      54456         0   \n",
              "327293       29  2011.0    294     3869        0     132994         0   \n",
              "\n",
              "        partyname  partyabbre  totvotpoll  electors  \n",
              "0             649         489       813.0     83247  \n",
              "1             649         489      1743.0     83247  \n",
              "2             671         485      4427.0     83247  \n",
              "3             672         486     19805.0     83247  \n",
              "4             789         571     34251.0     83247  \n",
              "...           ...         ...         ...       ...  \n",
              "327289        634         489      2471.0    189320  \n",
              "327290        323         306      3074.0    189320  \n",
              "327291        277         219      4961.0    189320  \n",
              "327292        471         350     73414.0    189320  \n",
              "327293         51          91     77817.0    189320  \n",
              "\n",
              "[327294 rows x 11 columns]"
            ],
            "text/html": [
              "\n",
              "  <div id=\"df-06bca9b2-7326-4431-8507-81fb51e938de\">\n",
              "    <div class=\"colab-df-container\">\n",
              "      <div>\n",
              "<style scoped>\n",
              "    .dataframe tbody tr th:only-of-type {\n",
              "        vertical-align: middle;\n",
              "    }\n",
              "\n",
              "    .dataframe tbody tr th {\n",
              "        vertical-align: top;\n",
              "    }\n",
              "\n",
              "    .dataframe thead th {\n",
              "        text-align: right;\n",
              "    }\n",
              "</style>\n",
              "<table border=\"1\" class=\"dataframe\">\n",
              "  <thead>\n",
              "    <tr style=\"text-align: right;\">\n",
              "      <th></th>\n",
              "      <th>st_name</th>\n",
              "      <th>year</th>\n",
              "      <th>ac_no</th>\n",
              "      <th>ac_name</th>\n",
              "      <th>ac_type</th>\n",
              "      <th>cand_name</th>\n",
              "      <th>cand_sex</th>\n",
              "      <th>partyname</th>\n",
              "      <th>partyabbre</th>\n",
              "      <th>totvotpoll</th>\n",
              "      <th>electors</th>\n",
              "    </tr>\n",
              "  </thead>\n",
              "  <tbody>\n",
              "    <tr>\n",
              "      <th>0</th>\n",
              "      <td>0</td>\n",
              "      <td>1978.0</td>\n",
              "      <td>1</td>\n",
              "      <td>2244</td>\n",
              "      <td>0</td>\n",
              "      <td>110726</td>\n",
              "      <td>0</td>\n",
              "      <td>649</td>\n",
              "      <td>489</td>\n",
              "      <td>813.0</td>\n",
              "      <td>83247</td>\n",
              "    </tr>\n",
              "    <tr>\n",
              "      <th>1</th>\n",
              "      <td>0</td>\n",
              "      <td>1978.0</td>\n",
              "      <td>1</td>\n",
              "      <td>2244</td>\n",
              "      <td>0</td>\n",
              "      <td>12336</td>\n",
              "      <td>0</td>\n",
              "      <td>649</td>\n",
              "      <td>489</td>\n",
              "      <td>1743.0</td>\n",
              "      <td>83247</td>\n",
              "    </tr>\n",
              "    <tr>\n",
              "      <th>2</th>\n",
              "      <td>0</td>\n",
              "      <td>1978.0</td>\n",
              "      <td>1</td>\n",
              "      <td>2244</td>\n",
              "      <td>0</td>\n",
              "      <td>209115</td>\n",
              "      <td>0</td>\n",
              "      <td>671</td>\n",
              "      <td>485</td>\n",
              "      <td>4427.0</td>\n",
              "      <td>83247</td>\n",
              "    </tr>\n",
              "    <tr>\n",
              "      <th>3</th>\n",
              "      <td>0</td>\n",
              "      <td>1978.0</td>\n",
              "      <td>1</td>\n",
              "      <td>2244</td>\n",
              "      <td>0</td>\n",
              "      <td>86828</td>\n",
              "      <td>0</td>\n",
              "      <td>672</td>\n",
              "      <td>486</td>\n",
              "      <td>19805.0</td>\n",
              "      <td>83247</td>\n",
              "    </tr>\n",
              "    <tr>\n",
              "      <th>4</th>\n",
              "      <td>0</td>\n",
              "      <td>1978.0</td>\n",
              "      <td>1</td>\n",
              "      <td>2244</td>\n",
              "      <td>0</td>\n",
              "      <td>25207</td>\n",
              "      <td>0</td>\n",
              "      <td>789</td>\n",
              "      <td>571</td>\n",
              "      <td>34251.0</td>\n",
              "      <td>83247</td>\n",
              "    </tr>\n",
              "    <tr>\n",
              "      <th>...</th>\n",
              "      <td>...</td>\n",
              "      <td>...</td>\n",
              "      <td>...</td>\n",
              "      <td>...</td>\n",
              "      <td>...</td>\n",
              "      <td>...</td>\n",
              "      <td>...</td>\n",
              "      <td>...</td>\n",
              "      <td>...</td>\n",
              "      <td>...</td>\n",
              "      <td>...</td>\n",
              "    </tr>\n",
              "    <tr>\n",
              "      <th>327289</th>\n",
              "      <td>29</td>\n",
              "      <td>2011.0</td>\n",
              "      <td>294</td>\n",
              "      <td>3869</td>\n",
              "      <td>0</td>\n",
              "      <td>6377</td>\n",
              "      <td>0</td>\n",
              "      <td>634</td>\n",
              "      <td>489</td>\n",
              "      <td>2471.0</td>\n",
              "      <td>189320</td>\n",
              "    </tr>\n",
              "    <tr>\n",
              "      <th>327290</th>\n",
              "      <td>29</td>\n",
              "      <td>2011.0</td>\n",
              "      <td>294</td>\n",
              "      <td>3869</td>\n",
              "      <td>0</td>\n",
              "      <td>186024</td>\n",
              "      <td>0</td>\n",
              "      <td>323</td>\n",
              "      <td>306</td>\n",
              "      <td>3074.0</td>\n",
              "      <td>189320</td>\n",
              "    </tr>\n",
              "    <tr>\n",
              "      <th>327291</th>\n",
              "      <td>29</td>\n",
              "      <td>2011.0</td>\n",
              "      <td>294</td>\n",
              "      <td>3869</td>\n",
              "      <td>0</td>\n",
              "      <td>195799</td>\n",
              "      <td>0</td>\n",
              "      <td>277</td>\n",
              "      <td>219</td>\n",
              "      <td>4961.0</td>\n",
              "      <td>189320</td>\n",
              "    </tr>\n",
              "    <tr>\n",
              "      <th>327292</th>\n",
              "      <td>29</td>\n",
              "      <td>2011.0</td>\n",
              "      <td>294</td>\n",
              "      <td>3869</td>\n",
              "      <td>0</td>\n",
              "      <td>54456</td>\n",
              "      <td>0</td>\n",
              "      <td>471</td>\n",
              "      <td>350</td>\n",
              "      <td>73414.0</td>\n",
              "      <td>189320</td>\n",
              "    </tr>\n",
              "    <tr>\n",
              "      <th>327293</th>\n",
              "      <td>29</td>\n",
              "      <td>2011.0</td>\n",
              "      <td>294</td>\n",
              "      <td>3869</td>\n",
              "      <td>0</td>\n",
              "      <td>132994</td>\n",
              "      <td>0</td>\n",
              "      <td>51</td>\n",
              "      <td>91</td>\n",
              "      <td>77817.0</td>\n",
              "      <td>189320</td>\n",
              "    </tr>\n",
              "  </tbody>\n",
              "</table>\n",
              "<p>327294 rows × 11 columns</p>\n",
              "</div>\n",
              "      <button class=\"colab-df-convert\" onclick=\"convertToInteractive('df-06bca9b2-7326-4431-8507-81fb51e938de')\"\n",
              "              title=\"Convert this dataframe to an interactive table.\"\n",
              "              style=\"display:none;\">\n",
              "        \n",
              "  <svg xmlns=\"http://www.w3.org/2000/svg\" height=\"24px\"viewBox=\"0 0 24 24\"\n",
              "       width=\"24px\">\n",
              "    <path d=\"M0 0h24v24H0V0z\" fill=\"none\"/>\n",
              "    <path d=\"M18.56 5.44l.94 2.06.94-2.06 2.06-.94-2.06-.94-.94-2.06-.94 2.06-2.06.94zm-11 1L8.5 8.5l.94-2.06 2.06-.94-2.06-.94L8.5 2.5l-.94 2.06-2.06.94zm10 10l.94 2.06.94-2.06 2.06-.94-2.06-.94-.94-2.06-.94 2.06-2.06.94z\"/><path d=\"M17.41 7.96l-1.37-1.37c-.4-.4-.92-.59-1.43-.59-.52 0-1.04.2-1.43.59L10.3 9.45l-7.72 7.72c-.78.78-.78 2.05 0 2.83L4 21.41c.39.39.9.59 1.41.59.51 0 1.02-.2 1.41-.59l7.78-7.78 2.81-2.81c.8-.78.8-2.07 0-2.86zM5.41 20L4 18.59l7.72-7.72 1.47 1.35L5.41 20z\"/>\n",
              "  </svg>\n",
              "      </button>\n",
              "      \n",
              "  <style>\n",
              "    .colab-df-container {\n",
              "      display:flex;\n",
              "      flex-wrap:wrap;\n",
              "      gap: 12px;\n",
              "    }\n",
              "\n",
              "    .colab-df-convert {\n",
              "      background-color: #E8F0FE;\n",
              "      border: none;\n",
              "      border-radius: 50%;\n",
              "      cursor: pointer;\n",
              "      display: none;\n",
              "      fill: #1967D2;\n",
              "      height: 32px;\n",
              "      padding: 0 0 0 0;\n",
              "      width: 32px;\n",
              "    }\n",
              "\n",
              "    .colab-df-convert:hover {\n",
              "      background-color: #E2EBFA;\n",
              "      box-shadow: 0px 1px 2px rgba(60, 64, 67, 0.3), 0px 1px 3px 1px rgba(60, 64, 67, 0.15);\n",
              "      fill: #174EA6;\n",
              "    }\n",
              "\n",
              "    [theme=dark] .colab-df-convert {\n",
              "      background-color: #3B4455;\n",
              "      fill: #D2E3FC;\n",
              "    }\n",
              "\n",
              "    [theme=dark] .colab-df-convert:hover {\n",
              "      background-color: #434B5C;\n",
              "      box-shadow: 0px 1px 3px 1px rgba(0, 0, 0, 0.15);\n",
              "      filter: drop-shadow(0px 1px 2px rgba(0, 0, 0, 0.3));\n",
              "      fill: #FFFFFF;\n",
              "    }\n",
              "  </style>\n",
              "\n",
              "      <script>\n",
              "        const buttonEl =\n",
              "          document.querySelector('#df-06bca9b2-7326-4431-8507-81fb51e938de button.colab-df-convert');\n",
              "        buttonEl.style.display =\n",
              "          google.colab.kernel.accessAllowed ? 'block' : 'none';\n",
              "\n",
              "        async function convertToInteractive(key) {\n",
              "          const element = document.querySelector('#df-06bca9b2-7326-4431-8507-81fb51e938de');\n",
              "          const dataTable =\n",
              "            await google.colab.kernel.invokeFunction('convertToInteractive',\n",
              "                                                     [key], {});\n",
              "          if (!dataTable) return;\n",
              "\n",
              "          const docLinkHtml = 'Like what you see? Visit the ' +\n",
              "            '<a target=\"_blank\" href=https://colab.research.google.com/notebooks/data_table.ipynb>data table notebook</a>'\n",
              "            + ' to learn more about interactive tables.';\n",
              "          element.innerHTML = '';\n",
              "          dataTable['output_type'] = 'display_data';\n",
              "          await google.colab.output.renderOutput(dataTable, element);\n",
              "          const docLink = document.createElement('div');\n",
              "          docLink.innerHTML = docLinkHtml;\n",
              "          element.appendChild(docLink);\n",
              "        }\n",
              "      </script>\n",
              "    </div>\n",
              "  </div>\n",
              "  "
            ]
          },
          "metadata": {},
          "execution_count": 92
        }
      ]
    },
    {
      "cell_type": "code",
      "execution_count": null,
      "metadata": {
        "colab": {
          "base_uri": "https://localhost:8080/"
        },
        "outputId": "0d1200fe-5ba6-4da1-b89c-a910152b0ebc",
        "id": "HhSttW29BUr1"
      },
      "outputs": [
        {
          "output_type": "stream",
          "name": "stderr",
          "text": [
            "/usr/local/lib/python3.7/dist-packages/sklearn/base.py:451: UserWarning: X does not have valid feature names, but DecisionTreeRegressor was fitted with feature names\n",
            "  \"X does not have valid feature names, but\"\n"
          ]
        },
        {
          "output_type": "execute_result",
          "data": {
            "text/plain": [
              "array([189320.])"
            ]
          },
          "metadata": {},
          "execution_count": 98
        }
      ],
      "source": [
        "dt.predict([[29,2011.0,294,3869,0,132994,0,51,91,77817.0]])"
      ],
      "id": "HhSttW29BUr1"
    }
  ],
  "metadata": {
    "kernelspec": {
      "display_name": "Python 3 (ipykernel)",
      "language": "python",
      "name": "python3"
    },
    "language_info": {
      "codemirror_mode": {
        "name": "ipython",
        "version": 3
      },
      "file_extension": ".py",
      "mimetype": "text/x-python",
      "name": "python",
      "nbconvert_exporter": "python",
      "pygments_lexer": "ipython3",
      "version": "3.9.7"
    },
    "colab": {
      "provenance": [],
      "include_colab_link": true
    }
  },
  "nbformat": 4,
  "nbformat_minor": 5
}